{
 "cells": [
  {
   "cell_type": "markdown",
   "metadata": {},
   "source": [
    "# Lecture 8"
   ]
  },
  {
   "cell_type": "code",
   "execution_count": null,
   "metadata": {},
   "outputs": [],
   "source": [
    "# Please inlcude your names below\n",
    "# Also, please edit the name of the file and include the names of the two(or three) people answering\n",
    "\n",
    "# Pair answering the assignment: Jialu Liu, Michael Blum\n",
    "# Pair giving feedback: Our feedback group is not working on the assignments (yet)"
   ]
  },
  {
   "cell_type": "markdown",
   "metadata": {},
   "source": [
    "## Selenium Download\n",
    "For the next exercises you will have to download selenium. \n",
    "\n",
    "You can read more about the webdriver here (https://chromedriver.chromium.org), but if you want to go straight to the download, go to https://chromedriver.storage.googleapis.com/index.html?path=80.0.3987.106/ and download your version. \n",
    "\n",
    "Moreover, in your terminal type `pip install selenium`. \n",
    "\n",
    "Once this is done, you should be able to run:\n",
    "- `from selenium import webdriver`\n",
    "- `browser = webdriver.Chrome([the path where you put the googlechromedriver])`\n",
    "\n",
    "In case of any issues, the https://chromedriver.chromium.org website has some straightforward info on common bugs. \n"
   ]
  },
  {
   "cell_type": "code",
   "execution_count": 3,
   "metadata": {},
   "outputs": [],
   "source": [
    "# from selenium import webdriver"
   ]
  },
  {
   "cell_type": "markdown",
   "metadata": {},
   "source": [
    "### 1. Rate limiting\n",
    "\n",
    "1. By now, you are familiar with 3 APIs, namely Google Books, NYT, and Dribble. For each one, find and copy the rules about rate limits. Next, pick one and try to exceed the rate limit; explain what you do and what reaction you get from the API."
   ]
  },
  {
   "cell_type": "markdown",
   "metadata": {},
   "source": [
    "Google Books: ~100k/day\n",
    "    \n",
    "NYT: 4000 requests per day and 10 per minute\n",
    "\n",
    "Dribbble: 10000 per day and 60 per minute"
   ]
  },
  {
   "cell_type": "markdown",
   "metadata": {},
   "source": [
    "2. In the next problem you will check how many requests you can send to Google Search before getting blocked. Websites protect themselves from automated crawling by checking requests that come from the same computer in a small time frame and after a while, they won't respond to the request. A valid response would be \"Response 200\", which you can see if you just print the response of `requests.get('https://www.google.com/search?q=zurich')`. \n",
    "\n",
    "The question is\n",
    "a) how many requests does it take to get blocked (when you first get a response other than 200)?\n",
    "b) What is the number of a blocked response and what does it exactly stand for (Google response XXX). If you still can:) "
   ]
  },
  {
   "cell_type": "code",
   "execution_count": 33,
   "metadata": {},
   "outputs": [
    {
     "name": "stdout",
     "output_type": "stream",
     "text": [
      "request number 1\n",
      "request number 2\n",
      "request number 3\n",
      "request number 4\n",
      "request number 5\n"
     ]
    }
   ],
   "source": [
    "# I first tried it with the google books API and afterwards with the lichess API. In both cases I couldn't manage\n",
    "# to break the rate limit. The loop below sends about 1 request per second. I stopped it after 2 hours^^\n",
    "# eventually I would have gotten a 429 response (Too Many Requests).\n",
    "\n",
    "import requests\n",
    "import json\n",
    "from pprint import pprint\n",
    "import json\n",
    "\n",
    "maxRequests = 5\n",
    "for i in range(maxRequests):\n",
    "    print('request number', i+1)\n",
    "    response = requests.get('https://lichess.org/api/user/DrDrunkenstein')\n",
    "    if response.status_code != 200:\n",
    "        print(response)\n",
    "        pprint(json.loads(response.text))\n",
    "        break"
   ]
  },
  {
   "cell_type": "markdown",
   "metadata": {},
   "source": [
    "### 2. Selenium sessions"
   ]
  },
  {
   "cell_type": "markdown",
   "metadata": {},
   "source": [
    "Go to a website of your choice where you have an account. It can for example be the New York Times APi website where you created a login last time but also tutti.ch, comparis, whatever simple website you often use.\n",
    "\n",
    "Using Selenium create a session where you \n",
    "1. go to the main website \n",
    "2. log in \n",
    "3. click on an element of your choice \n",
    "4. scroll to the bottom of the page\n",
    "5. then save the page. \n",
    "\n",
    "When logging in, you will have to find the name of the login form and submit your credentials to it and then click the login button. Here you find an example for a login using selenium but in case you decide to use this help, Facebook should not be your chosen website. https://crossbrowsertesting.com/blog/test-automation/automate-login-with-selenium/"
   ]
  },
  {
   "cell_type": "code",
   "execution_count": 4,
   "metadata": {},
   "outputs": [
    {
     "ename": "UnicodeEncodeError",
     "evalue": "'gbk' codec can't encode character '\\u2022' in position 949: illegal multibyte sequence",
     "output_type": "error",
     "traceback": [
      "\u001b[1;31m---------------------------------------------------------------------------\u001b[0m",
      "\u001b[1;31mUnicodeEncodeError\u001b[0m                        Traceback (most recent call last)",
      "\u001b[1;32m<ipython-input-4-4b70ef916009>\u001b[0m in \u001b[0;36m<module>\u001b[1;34m\u001b[0m\n\u001b[0;32m     17\u001b[0m \u001b[0musername\u001b[0m \u001b[1;33m=\u001b[0m \u001b[1;34m'your_username'\u001b[0m\u001b[1;33m\u001b[0m\u001b[1;33m\u001b[0m\u001b[0m\n\u001b[0;32m     18\u001b[0m \u001b[0mpassword\u001b[0m \u001b[1;33m=\u001b[0m \u001b[1;34m'your_password'\u001b[0m\u001b[1;33m\u001b[0m\u001b[1;33m\u001b[0m\u001b[0m\n\u001b[1;32m---> 19\u001b[1;33m \u001b[0mlichess_login\u001b[0m\u001b[1;33m(\u001b[0m\u001b[0musername\u001b[0m\u001b[1;33m,\u001b[0m \u001b[0mpassword\u001b[0m\u001b[1;33m)\u001b[0m\u001b[1;33m\u001b[0m\u001b[1;33m\u001b[0m\u001b[0m\n\u001b[0m",
      "\u001b[1;32m<ipython-input-4-4b70ef916009>\u001b[0m in \u001b[0;36mlichess_login\u001b[1;34m(username, password)\u001b[0m\n\u001b[0;32m     12\u001b[0m     \u001b[0mtime\u001b[0m\u001b[1;33m.\u001b[0m\u001b[0msleep\u001b[0m\u001b[1;33m(\u001b[0m\u001b[1;36m3\u001b[0m\u001b[1;33m)\u001b[0m\u001b[1;33m\u001b[0m\u001b[1;33m\u001b[0m\u001b[0m\n\u001b[0;32m     13\u001b[0m     \u001b[1;32mwith\u001b[0m \u001b[0mopen\u001b[0m\u001b[1;33m(\u001b[0m\u001b[1;34m'page.html'\u001b[0m\u001b[1;33m,\u001b[0m \u001b[1;34m'w'\u001b[0m\u001b[1;33m)\u001b[0m \u001b[1;32mas\u001b[0m \u001b[0mf\u001b[0m\u001b[1;33m:\u001b[0m\u001b[1;33m\u001b[0m\u001b[1;33m\u001b[0m\u001b[0m\n\u001b[1;32m---> 14\u001b[1;33m         \u001b[0mf\u001b[0m\u001b[1;33m.\u001b[0m\u001b[0mwrite\u001b[0m\u001b[1;33m(\u001b[0m\u001b[0mdriver\u001b[0m\u001b[1;33m.\u001b[0m\u001b[0mpage_source\u001b[0m\u001b[1;33m)\u001b[0m\u001b[1;33m\u001b[0m\u001b[1;33m\u001b[0m\u001b[0m\n\u001b[0m\u001b[0;32m     15\u001b[0m \u001b[1;33m\u001b[0m\u001b[0m\n\u001b[0;32m     16\u001b[0m \u001b[1;33m\u001b[0m\u001b[0m\n",
      "\u001b[1;31mUnicodeEncodeError\u001b[0m: 'gbk' codec can't encode character '\\u2022' in position 949: illegal multibyte sequence"
     ]
    }
   ],
   "source": [
    "from selenium import webdriver\n",
    "import time\n",
    "driver = webdriver.Chrome()\n",
    "\n",
    "def lichess_login(username, password):\n",
    "    driver.get('https://lichess.org/login')\n",
    "    driver.find_element_by_id('form3-username').send_keys(username)\n",
    "    driver.find_element_by_id ('form3-password').send_keys(password)\n",
    "    driver.find_element_by_class_name('submit').click()\n",
    "    time.sleep(3) # page redirect, so we wait some before srolling down\n",
    "    driver.execute_script(\"window.scrollTo(0,document.body.scrollHeight)\")\n",
    "    time.sleep(3)\n",
    "    with open('page.html', 'w') as f:\n",
    "        f.write(driver.page_source)\n",
    "    \n",
    "    \n",
    "username = 'your_username'\n",
    "password = 'your_password'\n",
    "lichess_login(username, password)"
   ]
  },
  {
   "cell_type": "markdown",
   "metadata": {},
   "source": [
    "### 3. Measuring personalization"
   ]
  },
  {
   "cell_type": "markdown",
   "metadata": {},
   "source": [
    "In this exercise you will have to imitate the study described in class on a website of your interest. You will have to measure differences in the content that you receive back from the website under varying treatments. \n",
    "\n",
    "You will have to choose a website and a treatment. Use selenium for this exercise as well. \n",
    "- As for websites, you can pick an online store, or traveling site, some news site, Google News.. basically try to pick something that you suspect gives different results for different searchers. \n",
    "- Examples for treatments would be location, being logged in with an account, history with the website, being on a phone vs a desktop, etc. \n",
    "- You can try to pick multiple searches to make sure you are measuring real phenomenon, not only noise\n",
    "- You can include a control treatment in case you suspect there's A/B testing or noise in how the pages look\n",
    "- Finally you have to pick a measure for the differences on the page. In case you receive items on a page, for example URLs or products, you can define an overlap metric. In case the page is more unstructured, come up with an explanation for how you define differences.\n",
    "\n",
    "As your answer, explain which of the above you chose, how you implemented the experiment, and what difference you found in the pages you collected. \n",
    "\n",
    "You can find more infor on how to run multiple browsers at the same time here: https://crossbrowsertesting.com/blog/selenium/run-test-multiple-browsers-parallel-selenium/"
   ]
  },
  {
   "cell_type": "code",
   "execution_count": 26,
   "metadata": {},
   "outputs": [
    {
     "name": "stdout",
     "output_type": "stream",
     "text": [
      "Do you like riddles? Wishlist \"The Academy\" on Steam!\n"
     ]
    }
   ],
   "source": [
    "#I will measure the personalization of 'your website', and the treament is whether to log in or not.\n",
    "\n",
    "from selenium import webdriver\n",
    "import time\n",
    "#driver = webdriver.Chrome()\n",
    "url = 'https://www.reddit.com/'\n",
    "\n",
    "def reddit_no_login():\n",
    "    driver = webdriver.Chrome()\n",
    "    driver.get(url)\n",
    "    #time.sleep(20)\n",
    "    elem = driver.find_elements_by_class_name('_2oEYZXchPfHwcf9mTMGMg8') #the class name may be temporary\n",
    "\n",
    "    for el in elem:\n",
    "        if el.text == 'PROMOTED':\n",
    "            parent = el.find_element_by_xpath('./../../../..')\n",
    "            ad = parent.find_element_by_tag_name('h3')\n",
    "            return ad.text\n",
    "    \n",
    "ad = reddit_no_login()\n",
    "print(ad)"
   ]
  },
  {
   "cell_type": "markdown",
   "metadata": {},
   "source": [
    "- Site picked: reddit.com\n",
    "- treatment: being logged in or not\n",
    "- measure: ads shown as 'promoted' thread (these threads are 'camouflaged' as normal threads. the only indication of paid advertisement is a small 'promoted' tag)\n",
    "- test setup: We repeated the test until we found three different ads (we got the same ads multiple times).\n",
    "\n",
    "Results no login:\n",
    "Wir läuten den Frühling ein und lassen den PlayStation Store mit fetten Angeboten so richtig aufblühen! Spare jetzt bis zu 60% auf zahlreiche Top-Games wie FIFA 20, Days Gone, Mortal Kombat 11 oder Star Wars Jedi: Fallen Order. So gehen Frühlingsgefühle!\n",
    "Vends aussi ton assortiment en ligne. Dans ton magasin ou sur internet, garde toujours un œil sur ton inventaire. Améliore ton business avec MyCOMMERCE.ch/fr.\n",
    "Do you like riddles? Wishlist \"The Academy\" on Steam!\n",
    "\n",
    "Results with login:\n",
    "Experience enjoyable JavaScript development with WebStorm. With smart code completion, safe refactoring, and first-class support for Node.js, Angular and React. Download free trial!\n",
    "Don’t watch another boring video on secure coding. Try our gamified challenges and put your secure coding skills to the test. Battle the clock and colleagues for bragging rights, if you score more than 5000 points during the trial period, you can flex when we send you a free limited edition t-shirt!\n",
    "Deine Angebote auch im Online Shop verkaufen. Laden oder Internet – dein Warenlager immer im Blick. Upgrade dein Business mit MyCOMMERCE.ch\n",
    "\n",
    "#### Conclusion / Observation\n",
    "\n",
    "- being not logged in resulted in an ad in french. Sample size \n",
    "- the theme of the ads were quite similiar. We assume though that in the sample size where we were logged in the ads \"got help\" from the subreddits the account was linked with (web development in particular)."
   ]
  },
  {
   "cell_type": "markdown",
   "metadata": {},
   "source": [
    "Congratulations for completing the third notebook! Now it’s time for feedback.\n",
    "1.\tPass your solution to the other pair in your group.\n",
    "2.\tInclude your feedback in the other pair’s notebook. Don’t forget to add your names at the top.\n",
    "3.\tReturn the notebook with feedback to the original pairs.\n",
    "4.\tUpload your notebook, with the feedback included by the other pair on OLAT.\n",
    "\n",
    "You can think of/suggest (among other things)\n",
    " - improvements in the code (e.g. readability, efficiency)\n",
    " - improvements in the answers (e.g. are they easy to understand, are they correct, how can they be improved?)\n",
    " - point out differences (e.g. are there any differences between the responses of the two pairs? if yes what are they, what is the cause, and in which way can they be useful?)\n",
    " \n",
    "Not all suggestions about the type of feedback apply to all types of questions. Try to give feedback in a meaningful and constructive way. "
   ]
  },
  {
   "cell_type": "code",
   "execution_count": 28,
   "metadata": {},
   "outputs": [
    {
     "data": {
      "text/plain": [
       "'\\nOur feedback partners are not doing the notebooks (yet); therefore we dont have any feedback from them.\\n'"
      ]
     },
     "execution_count": 28,
     "metadata": {},
     "output_type": "execute_result"
    }
   ],
   "source": [
    "# Below there is space for giving feedback. This space should be used only by the other pair in your group.\n",
    "\n",
    "'''\n",
    "Our feedback partners are not doing the notebooks (yet); therefore we dont have any feedback from them.\n",
    "'''"
   ]
  },
  {
   "cell_type": "code",
   "execution_count": null,
   "metadata": {},
   "outputs": [],
   "source": []
  }
 ],
 "metadata": {
  "kernelspec": {
   "display_name": "Python 3",
   "language": "python",
   "name": "python3"
  },
  "language_info": {
   "codemirror_mode": {
    "name": "ipython",
    "version": 3
   },
   "file_extension": ".py",
   "mimetype": "text/x-python",
   "name": "python",
   "nbconvert_exporter": "python",
   "pygments_lexer": "ipython3",
   "version": "3.7.5"
  }
 },
 "nbformat": 4,
 "nbformat_minor": 4
}
